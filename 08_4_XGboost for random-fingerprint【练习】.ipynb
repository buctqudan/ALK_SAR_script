{
 "cells": [
  {
   "cell_type": "code",
   "execution_count": null,
   "metadata": {
    "scrolled": true
   },
   "outputs": [],
   "source": [
    "import numpy as np\n",
    "import pandas as pd\n",
    "import warnings,re,datetime\n",
    "import warnings #忽略警告\n",
    "warnings.filterwarnings('ignore', category=FutureWarning)\n",
    "import matplotlib\n",
    "import matplotlib.pyplot as plt\n",
    "import xgboost as xgb\n",
    "\n",
    "from pandas import Series, DataFrame\n",
    "from sklearn.preprocessing import MinMaxScaler\n",
    "from sklearn.model_selection import GridSearchCV, StratifiedKFold, cross_val_score, LeaveOneOut\n",
    "from sklearn.metrics import make_scorer, accuracy_score, precision_score, recall_score, matthews_corrcoef, roc_curve, roc_auc_score\n",
    "\n",
    "from sklearn.ensemble import GradientBoostingClassifier\n",
    "from xgboost.sklearn import XGBClassifier"
   ]
  },
  {
   "cell_type": "code",
   "execution_count": null,
   "metadata": {},
   "outputs": [],
   "source": [
    "def show_metrics(y_true, y_pred):\n",
    "    tp = 0\n",
    "    fp = 0\n",
    "    tn = 0\n",
    "    fn = 0\n",
    "    for i in range(int(y_true.shape[0])):\n",
    "        if y_true[i] == 1 and y_pred[i] == 1:\n",
    "            tp += 1\n",
    "        if y_true[i] == 1 and y_pred[i] == 0:\n",
    "            fn += 1\n",
    "        if y_true[i] == 0 and y_pred[i] == 1:\n",
    "            fp += 1\n",
    "        if y_true[i] == 0 and y_pred[i] == 0:\n",
    "            tn += 1\n",
    "    se = float(tp) / ( float(tp)+float(fn) )\n",
    "    sp = float(tn) / ( float(tn)+float(fp) )\n",
    "    print(\"tp=%d, tn=%d, fp=%d, fn=%d\" % (tp, tn, fp, fn))\n",
    "    print(\"sensitivity = %.2f%%, specificity = %.2f%%\" % (100*se, 100*sp))\n",
    "    print(\"accuracy=%.2f%%, precision=%.2f%%, recall=%.2f%%, MCC=%.4f\" % (100*accuracy_score(y_true, y_pred), 100*precision_score(y_true, y_pred), 100*recall_score(y_true, y_pred), matthews_corrcoef(y_true, y_pred)))"
   ]
  },
  {
   "cell_type": "code",
   "execution_count": null,
   "metadata": {
    "scrolled": true
   },
   "outputs": [],
   "source": [
    "# # 这部分是划分好的文件输入用一下代码框：第1-4组为SOM划分的四组训练集和测试集\n",
    "tr_csv = r\"Q:\\ALK_1_Wild\\3.ALK_300nM_RANDOM_ECFP4\\ChEMBL_TargetID_CHEMBL4247_1810ECFP4_filter387-ran-111_tr_1212.csv\"\n",
    "te_csv = r\"Q:\\ALK_1_Wild\\3.ALK_300nM_RANDOM_ECFP4\\ChEMBL_TargetID_CHEMBL4247_1810ECFP4_filter387-ran-111_te_598.csv\"\n",
    "\n",
    "tr_x = pd.read_csv(tr_csv).iloc[:,:-1] #这一步如果活性列在最后一列就是\"-1\"；注意修改读取范围\n",
    "te_x = pd.read_csv(te_csv).iloc[:,:-1]\n",
    "tr_y = pd.read_csv(tr_csv).iloc[:,-1]\n",
    "te_y = pd.read_csv(te_csv).iloc[:,-1]\n",
    "tr_x"
   ]
  },
  {
   "cell_type": "code",
   "execution_count": null,
   "metadata": {},
   "outputs": [],
   "source": [
    "# # 这部分是划分好的文件输入用一下代码框：第9-12组为random划分的四组训练集和测试集（有index）\n",
    "tr_csv = r\"Q:\\ALK_1_Wild\\3.ALK_300nM_RANDOM_ECFP4\\index_ChEMBL_TargetID_CHEMBL4247_1810ECFP4_filter387-ran-111_tr_1212.csv\"\n",
    "te_csv = r\"Q:\\ALK_1_Wild\\3.ALK_300nM_RANDOM_ECFP4\\index_ChEMBL_TargetID_CHEMBL4247_1810ECFP4_filter387-ran-111_te_598.csv\"\n",
    "\n",
    "tr_x = pd.read_csv(tr_csv).iloc[:,:-2] #这一步如果活性列在倒数第二列，\"-2\"；注意修改读取范围\n",
    "te_x = pd.read_csv(te_csv).iloc[:,:-2]\n",
    "tr_y = pd.read_csv(tr_csv).iloc[:,-2]\n",
    "te_y = pd.read_csv(te_csv).iloc[:,-2]\n",
    "tr_x"
   ]
  },
  {
   "cell_type": "code",
   "execution_count": null,
   "metadata": {
    "scrolled": true
   },
   "outputs": [],
   "source": [
    "# 数据压缩 Data Processing\n",
    "if (tr_x.describe().loc['min',:].min() == 0 and tr_x.describe().loc['max',:].max() == 1):\n",
    "    tr_feature = tr_x\n",
    "    te_feature = te_x\n",
    "else:\n",
    "    scaler = MinMaxScaler(feature_range=(0.1, 0.9))\n",
    "    tr_feature = scaler.fit_transform(tr_x)\n",
    "    te_feature = scaler.transform(te_x)\n",
    "\n",
    "tr_label = tr_y\n",
    "te_label = te_y\n",
    "tr_feature"
   ]
  },
  {
   "cell_type": "code",
   "execution_count": null,
   "metadata": {},
   "outputs": [],
   "source": [
    "# 忽略特定类型的警告\n",
    "warnings.filterwarnings(\"ignore\", message=\"The use of label encoder in XGBClassifier is deprecated\")"
   ]
  },
  {
   "cell_type": "code",
   "execution_count": null,
   "metadata": {
    "scrolled": true
   },
   "outputs": [],
   "source": [
    "# 预建模\n",
    "model_test = XGBClassifier(seed=27,random_state = 3, eval_metric='error')\n",
    "model_test.fit(tr_feature, tr_label)\n",
    "tr_pre_label = model_test.predict(tr_feature)\n",
    "te_pre_label = model_test.predict(te_feature)\n",
    "\n",
    "print(\"training set:\\n\")\n",
    "show_metrics(tr_label, tr_pre_label)\n",
    "print(\"\\n\\ntest set:\\n\")\n",
    "show_metrics(te_label, te_pre_label)"
   ]
  },
  {
   "cell_type": "code",
   "execution_count": null,
   "metadata": {},
   "outputs": [],
   "source": [
    "# 参数寻优1\n",
    "learning_rate = [0.01,0.1,0.2,0.3]\n",
    "max_depth = range(5,16,1)\n",
    "n_estimators = range(70,160,10)#控制过拟合\n",
    "\n",
    "grid_dict = {'n_estimators':n_estimators,'max_depth':max_depth,'learning_rate':learning_rate}\n",
    "\n",
    "grid_score_mcc = make_scorer(matthews_corrcoef, greater_is_better=True)\n",
    "\n",
    "grid_cv = StratifiedKFold(n_splits=5, shuffle=True, random_state=3)\n",
    "\n",
    "gs = GridSearchCV(estimator = XGBClassifier( min_child_weight = 1, seed=27, random_state = 3), \n",
    "                  param_grid = grid_dict, scoring=grid_score_mcc, n_jobs=4, cv=grid_cv)\n",
    "\n",
    "gs.fit(tr_feature, tr_label)\n",
    "gs.best_params_"
   ]
  },
  {
   "cell_type": "code",
   "execution_count": null,
   "metadata": {
    "code_folding": []
   },
   "outputs": [],
   "source": [
    "# 参数寻优1（过程结果）\n",
    "score = []\n",
    "for p, s in zip(gs.cv_results_['params'],\n",
    "\tgs.cv_results_['mean_test_score']):\n",
    "\tprint(p, s) \n",
    "plt.plot(score)\n",
    "plt.show()"
   ]
  },
  {
   "cell_type": "code",
   "execution_count": null,
   "metadata": {},
   "outputs": [],
   "source": [
    "# 参数寻优2\n",
    "colsample_bytree = [0.5,0.6,0.7,0.8,0.9,1.0]\n",
    "subsample = [0.5,0.6,0.7,0.8,0.9,1.0]\n",
    "\n",
    "grid_dict = {'subsample':subsample,'colsample_bytree':colsample_bytree}\n",
    "\n",
    "grid_score_mcc = make_scorer(matthews_corrcoef, greater_is_better=True)\n",
    "\n",
    "grid_cv = StratifiedKFold(n_splits=5, shuffle=True, random_state=0)\n",
    "\n",
    "# gs_1 = GridSearchCV(estimator = XGBClassifier(learning_rate =0.01, max_depth = 5, n_estimators = 130,\n",
    "#                                               min_child_weight = 1, seed=27, random_state = 3), \n",
    "#                         param_grid = grid_dict, scoring=grid_score_mcc, n_jobs=4, cv=grid_cv)# 记得改参数寻优1结果\n",
    "\n",
    "gs_1 = GridSearchCV(estimator = XGBClassifier(learning_rate = gs.best_params_['learning_rate'],\n",
    "                                              max_depth = gs.best_params_['max_depth'],\n",
    "                                              n_estimators = gs.best_params_['n_estimators'],\n",
    "                                              min_child_weight = 1, seed=27, random_state = 3), \n",
    "                        param_grid = grid_dict, scoring=grid_score_mcc, n_jobs=4, cv=grid_cv)\n",
    "gs_1.fit(tr_feature, tr_label)\n",
    "gs_1.best_params_"
   ]
  },
  {
   "cell_type": "code",
   "execution_count": null,
   "metadata": {
    "scrolled": true
   },
   "outputs": [],
   "source": [
    "# 参数寻优2（过程结果）\n",
    "score = []\n",
    "for p, s in zip(gs_1.cv_results_['params'],\n",
    "\tgs_1.cv_results_['mean_test_score']):\n",
    "\tprint(p, s)\n",
    "plt.plot(score)\n",
    "plt.show()    "
   ]
  },
  {
   "cell_type": "code",
   "execution_count": null,
   "metadata": {},
   "outputs": [],
   "source": [
    "# 建模结果（寻优参数模型）\n",
    "# model_xgb = XGBClassifier(learning_rate = gs.best_params_['learning_rate'],\n",
    "#                           max_depth = gs.best_params_['max_depth'],\n",
    "#                           n_estimators = gs.best_params_['n_estimators'],\n",
    "#                           colsample_bytree = gs_1.best_params_['colsample_bytree'],\n",
    "#                           subsample = gs_1.best_params_['subsample'],\n",
    "                          \n",
    "#                           min_child_weight= 1, nthread=4, gamma=0, scale_pos_weight=1, seed=27, random_state = 3, eval_metric='error')\n",
    "\n",
    "model_xgb = XGBClassifier(learning_rate = 0.3,\n",
    "                          max_depth = 7,\n",
    "                          n_estimators = 150,\n",
    "                          colsample_bytree = 0.6, \n",
    "                          subsample = 1,\n",
    "                          \n",
    "                          min_child_weight= 1, nthread=4, gamma=0, scale_pos_weight=1, seed=27, random_state = 3, eval_metric='error')## 创建一个XGB分类模型，记得改参数！！！\n",
    "\n",
    "model_xgb.fit(tr_feature, tr_label)\n",
    "tr_pre_label = model_xgb.predict(tr_feature)\n",
    "te_pre_label = model_xgb.predict(te_feature)\n",
    "\n",
    "print(\"training set:\\n\")\n",
    "show_metrics(tr_label, tr_pre_label)\n",
    "print(\"\\n\\ntest set:\\n\")\n",
    "show_metrics(te_label, te_pre_label)"
   ]
  },
  {
   "cell_type": "code",
   "execution_count": null,
   "metadata": {},
   "outputs": [],
   "source": [
    "#保存模型\n",
    "import joblib\n",
    "joblib.dump(model_xgb,\"Q:\\ALK_1_Wild\\ALK_300nM_RANDOM_ECFP4\\ECFP4_filter387_XGB\\ChEMBL_TargetID_CHEMBL4247_1810ECFP4_filter387_XGB-24.pkl\")"
   ]
  },
  {
   "cell_type": "code",
   "execution_count": null,
   "metadata": {},
   "outputs": [],
   "source": [
    "# 导出训练集预测结果 Training set result file\n",
    "train_file_path = \"Q:\\ALK_1_Wild\\ALK_300nM_RANDOM_ECFP4\\ECFP4_filter387_XGB\\ChEMBL_TargetID_CHEMBL4247_1810ECFP4_filter387_XGB-24_training_results.csv\"\n",
    "with open(train_file_path, \"w\") as train_file:\n",
    "    train_file.write(\"tr_label,tr_pre_label\\n\")\n",
    "  \n",
    "    # Write training set results to file\n",
    "    for tr_label_i, tr_pre_label_i in zip(tr_label, tr_pre_label):\n",
    "        train_file.write(f\"{tr_label_i},{tr_pre_label_i}\\n\")"
   ]
  },
  {
   "cell_type": "code",
   "execution_count": null,
   "metadata": {},
   "outputs": [],
   "source": [
    "# 导出测试集预测结果 Testing set result file\n",
    "test_file_path = \"Q:\\ALK_1_Wild\\ALK_300nM_RANDOM_ECFP4\\ECFP4_filter387_XGB\\ChEMBL_TargetID_CHEMBL4247_1810ECFP4_filter387_XGB-24_testing_results.csv\"\n",
    "with open(test_file_path, \"w\") as test_file:\n",
    "    test_file.write(\"te_label,te_pre_label\\n\")\n",
    "\n",
    "    # Write testing set results to file\n",
    "    for te_label_i, te_pre_label_i in zip(te_label, te_pre_label):\n",
    "        test_file.write(f\"{te_label_i},{te_pre_label_i}\\n\")"
   ]
  },
  {
   "cell_type": "code",
   "execution_count": null,
   "metadata": {
    "scrolled": true
   },
   "outputs": [],
   "source": [
    "# 外部测试集验证\n",
    "\n",
    "def load_external_test_data(file_path):\n",
    "    df = pd.read_csv(file_path)\n",
    "    ext_te_feature = df.drop('label', axis=1)  # 特征数据\n",
    "    ext_te_label = df['label']  # 标签\n",
    "    return ext_te_feature, ext_te_label\n",
    "\n",
    "# 外部测试集的 CSV 文件路径\n",
    "# external_test_file_path = r\"Q:\\ALK_1_Wild\\4.ALK_300nM_External\\ChEMBL_TargetID_CHEMBL4247_1810_ExternalECFP4.csv\"\n",
    "external_test_file_path = r\"Q:\\ALK_1_Wild\\4.ALK_300nM_External\\ChEMBL_TargetID_CHEMBL4247_1810_ExternalECFP4_filter387.csv\"\n",
    "\n",
    "# 加载外部测试集数据\n",
    "ext_te_feature, ext_te_label = load_external_test_data(external_test_file_path)\n",
    "\n",
    "# 使用相同的标准化器对外部测试集进行标准化\n",
    "scaler = MinMaxScaler()\n",
    "ext_te_feature = scaler.fit_transform(ext_te_feature)\n",
    "\n",
    "# 使用训练好的模型对外部测试集进行预测\n",
    "ext_te_pre_label = model_xgb.predict(ext_te_feature)\n",
    "\n",
    "# 打印外部测试集的预测结果\n",
    "print(\"\\nexternal test set predictions:\\n\")\n",
    "show_metrics(ext_te_label, ext_te_pre_label)"
   ]
  },
  {
   "cell_type": "code",
   "execution_count": null,
   "metadata": {
    "scrolled": false
   },
   "outputs": [],
   "source": [
    "# 用于检查训练时使用的特征数量和预测时传递给模型的特征数量是否相同。确保外部测试集的特征数量与训练集的特征数量一致\n",
    "print(\"训练集特征数量:\", tr_feature.shape[1])\n",
    "print(\"外部测试集特征数量:\", ext_te_feature.shape[1])"
   ]
  },
  {
   "cell_type": "code",
   "execution_count": null,
   "metadata": {
    "scrolled": true
   },
   "outputs": [],
   "source": [
    "# \n",
    "model_xgb"
   ]
  },
  {
   "cell_type": "code",
   "execution_count": null,
   "metadata": {
    "scrolled": true
   },
   "outputs": [],
   "source": [
    "# 5-CV & 10-CV & LOO\n",
    "# cv_xgb = model_xgb\n",
    "\n",
    "cv_xgb = XGBClassifier(learning_rate = 0.3,\n",
    "                          max_depth = 7,\n",
    "                          n_estimators = 150,\n",
    "                          colsample_bytree = 0.6, \n",
    "                          subsample = 1,\n",
    "                          \n",
    "                          min_child_weight= 1, nthread=4, gamma=0, scale_pos_weight=1, seed=27, random_state = 3, eval_metric='error')## 创建一个XGB分类模型，记得改参数！！！\n",
    "cv_score_accuracy = make_scorer(accuracy_score)\n",
    "cv_cv5 = StratifiedKFold(n_splits=5, shuffle=True, random_state=0)\n",
    "cv_cv10 = StratifiedKFold(n_splits=10, shuffle=True, random_state=0)\n",
    "cv_cvloo = LeaveOneOut()\n",
    "print(\"5-fold: %.2f%%\" % (100 * np.mean(cross_val_score(cv_xgb, tr_feature, tr_label, scoring=cv_score_accuracy, cv=cv_cv5))))\n",
    "print(\"10-fold: %.2f%%\" % (100 * np.mean(cross_val_score(cv_xgb, tr_feature, tr_label, scoring=cv_score_accuracy, cv=cv_cv10))))\n",
    "print(\"leave-one-out: %.2f%%\" % (100 * np.mean(cross_val_score(cv_xgb, tr_feature, tr_label, scoring=cv_score_accuracy, cv=cv_cvloo))))"
   ]
  },
  {
   "cell_type": "code",
   "execution_count": null,
   "metadata": {},
   "outputs": [],
   "source": [
    "# Calculating ROC curve.\n",
    "tr_decision_score = model_xgb.predict_proba(tr_feature)[:,1]#预测为1的概率\n",
    "te_decision_score = model_xgb.predict_proba(te_feature)[:,1]#预测为1的概率\n",
    "tr_roc_inform = roc_curve(tr_label, tr_decision_score)#不一样诶？\n",
    "te_roc_inform = roc_curve(te_label, te_decision_score)#不一样诶？\n",
    "tr_auc_str = \"AUC (Training set): \" + str(round(roc_auc_score(tr_label, tr_decision_score),3))\n",
    "te_auc_str = \"AUC (Test set): \" + str(round(roc_auc_score(te_label, te_decision_score),3))\n",
    "plt.clf()\n",
    "matplotlib.rcParams['font.family'] = 'Times New Roman'\n",
    "plt.plot(tr_roc_inform[0], tr_roc_inform[1], 'b', label=\"Training set\")\n",
    "plt.plot(te_roc_inform[0], te_roc_inform[1], 'r-.', label=\"Test set\")\n",
    "plt.text(0.6,0.8,tr_auc_str+'\\n'+te_auc_str)\n",
    "plt.xlabel(\"False positive rate\")\n",
    "plt.ylabel(\"True positive rate\")\n",
    "plt.legend(loc=\"best\")\n",
    "plt.savefig(r\"C:\\Users\\lab408\\Desktop\\iii.tif\", dpi=1000, bbox_inches=\"tight\")\n",
    "plt.show()"
   ]
  },
  {
   "cell_type": "code",
   "execution_count": null,
   "metadata": {},
   "outputs": [],
   "source": [
    "# 将tr_proba输出到CSV文件\n",
    "tr_proba = model_xgb.predict_proba(tr_feature) \n",
    "tr_decision_score_df = pd.DataFrame(tr_proba, columns=['Class_0_Proba', 'Class_1_Proba'])\n",
    "tr_decision_score_df.to_csv(r\"Q:\\ALK_1_Wild\\3.ALK_300nM_RANDOM_ECFP4\\ECFP4_filter387_XGB\\ChEMBL_TargetID_CHEMBL4247_1810ECFP4_filter387_XGB-24_tr_proba.csv\", index=False)"
   ]
  },
  {
   "cell_type": "code",
   "execution_count": null,
   "metadata": {},
   "outputs": [],
   "source": [
    "# 将te_proba输出到CSV文件\n",
    "te_proba = model_xgb.predict_proba(te_feature) \n",
    "te_decision_score_df = pd.DataFrame(te_proba, columns=['Class_0_Proba', 'Class_1_Proba'])\n",
    "te_decision_score_df.to_csv(r\"Q:\\ALK_1_Wild\\3.ALK_300nM_RANDOM_ECFP4\\ECFP4_filter387_XGB\\ChEMBL_TargetID_CHEMBL4247_1810ECFP4_filter387_XGB-24_te_proba.csv\", index=False)"
   ]
  }
 ],
 "metadata": {
  "kernelspec": {
   "display_name": "qudan0327",
   "language": "python",
   "name": "qudan0327"
  },
  "language_info": {
   "codemirror_mode": {
    "name": "ipython",
    "version": 3
   },
   "file_extension": ".py",
   "mimetype": "text/x-python",
   "name": "python",
   "nbconvert_exporter": "python",
   "pygments_lexer": "ipython3",
   "version": "3.9.18"
  },
  "toc": {
   "base_numbering": 1,
   "nav_menu": {},
   "number_sections": true,
   "sideBar": true,
   "skip_h1_title": false,
   "title_cell": "Table of Contents",
   "title_sidebar": "Contents",
   "toc_cell": false,
   "toc_position": {},
   "toc_section_display": true,
   "toc_window_display": false
  }
 },
 "nbformat": 4,
 "nbformat_minor": 4
}
