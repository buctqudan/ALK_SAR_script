{
 "cells": [
  {
   "cell_type": "code",
   "execution_count": null,
   "id": "aa124e90",
   "metadata": {},
   "outputs": [],
   "source": [
    "import numpy as np\n",
    "import pandas as pd\n",
    "from rdkit import Chem\n",
    "from rdkit.Chem import Draw\n",
    "from rdkit.Chem.Scaffolds import MurckoScaffold\n",
    "from rdkit.Chem.Draw import IPythonConsole"
   ]
  },
  {
   "cell_type": "code",
   "execution_count": null,
   "id": "290fc066",
   "metadata": {},
   "outputs": [],
   "source": [
    "data = pd.read_csv(\"Q:\\ALK_1_Wild\\ALK_300nM_cluster_ECFP4_new\\ChEMBL_TargetID_CHEMBL4247_1810ECFP4_filter_cluster_10_Subset10_116.csv\")\n",
    "suppl = data['smiles']\n",
    "mol_list = []\n",
    "for smiles in suppl:\n",
    "    mol = Chem.MolFromSmiles(smiles)\n",
    "    mol_list.append(mol)\n",
    "smi_scaffolds = [  MurckoScaffold.MurckoScaffoldSmiles(mol=mol, includeChirality=False) for mol in mol_list]\n",
    "mol_scaffolds = [Chem.MolFromSmiles(smi_scaffold) for smi_scaffold in smi_scaffolds]\n",
    "twoD_scaffolds = []\n",
    "graph_scaffold = []\n",
    "for i in mol_scaffolds:\n",
    "    i.Compute2DCoords()\n",
    "    twoD_scaffolds.append(i)\n",
    "    graph_scaffold.append(MurckoScaffold.MakeScaffoldGeneric(i))"
   ]
  },
  {
   "cell_type": "code",
   "execution_count": null,
   "id": "d2367f7f",
   "metadata": {},
   "outputs": [],
   "source": [
    "scaffolds = {}\n",
    "clusters_list =[]\n",
    "s_smi = []\n",
    "idx = 1\n",
    "for mol in mol_list:\n",
    "    scaffold_smi =  MurckoScaffold.MurckoScaffoldSmiles(mol=mol, includeChirality=False)\n",
    "    s_smi.append(scaffold_smi)\n",
    "    if scaffold_smi not in scaffolds.keys():\n",
    "        scaffolds[scaffold_smi] = idx#scaffolds_smi为key\n",
    "        idx+=1\n",
    "        \n",
    "    cluster_id = scaffolds[scaffold_smi]\n",
    "    clusters_list.append(cluster_id)"
   ]
  },
  {
   "cell_type": "code",
   "execution_count": null,
   "id": "e33677bf",
   "metadata": {},
   "outputs": [],
   "source": [
    "df = pd.DataFrame()\n",
    "df['mol_list'] = suppl\n",
    "df['scafold_smi'] = s_smi\n",
    "df['cluster_list'] = clusters_list\n",
    "# df['label'] = data['label']\n",
    "# df['source'] = data['source']\n",
    "df.to_csv(r\"Q:\\ALK_1_Wild\\ALK_300nM_cluster_ECFP4_new\\ChEMBL_TargetID_CHEMBL4247_1810ECFP4_filter_cluster_10_Subset10_116_scafold_list.csv\")"
   ]
  }
 ],
 "metadata": {
  "kernelspec": {
   "display_name": "qudan",
   "language": "python",
   "name": "qudan"
  },
  "language_info": {
   "codemirror_mode": {
    "name": "ipython",
    "version": 3
   },
   "file_extension": ".py",
   "mimetype": "text/x-python",
   "name": "python",
   "nbconvert_exporter": "python",
   "pygments_lexer": "ipython3",
   "version": "3.9.18"
  },
  "toc": {
   "base_numbering": 1,
   "nav_menu": {},
   "number_sections": true,
   "sideBar": true,
   "skip_h1_title": false,
   "title_cell": "Table of Contents",
   "title_sidebar": "Contents",
   "toc_cell": false,
   "toc_position": {},
   "toc_section_display": true,
   "toc_window_display": false
  }
 },
 "nbformat": 4,
 "nbformat_minor": 5
}
