{
 "cells": [
  {
   "cell_type": "code",
   "execution_count": null,
   "metadata": {},
   "outputs": [],
   "source": [
    "import numpy as np\n",
    "from rdkit import Chem"
   ]
  },
  {
   "cell_type": "code",
   "execution_count": null,
   "metadata": {},
   "outputs": [],
   "source": [
    "class Duplicate(object):\n",
    "    \"\"\"\n",
    "    \"\"\"\n",
    "    def __init__(self):\n",
    "        self.unique_inchi = []\n",
    "        self.repeat_inchi = []\n",
    "        self.unique_index = []\n",
    "        self.repeat_index = []\n",
    "    \n",
    "    def SetInputSmiles(self, smi_file=\"\"):\n",
    "        self.input_file = smi_file\n",
    "        \n",
    "        self.np_init_smi = np.loadtxt(self.input_file, dtype=np.str, comments=None)\n",
    "        self.init_mols = [Chem.MolFromSmiles(m) for m in self.np_init_smi]\n",
    "        self.init_inchi = [Chem.MolToSmiles(m) for m in self.init_mols]\n",
    "        \n",
    "        self.init_num = len(self.init_inchi)\n",
    "        print(\"Done. {} molecules have been converted to InChiKey.\"\\\n",
    "              .format(self.init_num))\n",
    "    \n",
    "    def SetInputSDF(self, sdf_file=\"\"):\n",
    "        self.input_file = sdf_file\n",
    "        \n",
    "        self.suppl = Chem.SDMolSupplier(self.input_file)\n",
    "        self.np_init_smi = np.array([Chem.MolToSmiles(m) for m in self.suppl])\n",
    "        self.init_mols = [Chem.MolFromSmiles(m) for m in self.np_init_smi]\n",
    "        self.init_inchi = [Chem.MolToSmiles(m) for m in self.init_mols]\n",
    "\n",
    "        self.init_num = len(self.init_inchi)\n",
    "        print(\"Done. {} molecules have been converted to InChiKey.\"\\\n",
    "              .format(self.init_num))\n",
    "    \n",
    "    def Duplicate(self):\n",
    "        for i in range(0, len(self.init_inchi)):\n",
    "            if self.init_inchi[i] not in self.unique_inchi:\n",
    "                self.unique_inchi.append(self.init_inchi[i])\n",
    "                self.unique_index.append(i)\n",
    "            else:\n",
    "                self.repeat_inchi.append(self.init_inchi[i])\n",
    "                self.repeat_index.append(i)\n",
    "        \n",
    "        self.unique_num = len(self.unique_inchi)\n",
    "        self.repeat_num = len(self.repeat_inchi)\n",
    "        print(\"Done. init: {}, unique: {}, repeat: {}\"\\\n",
    "              .format(self.init_num, self.unique_num, self.repeat_num))\n",
    "    \n",
    "    def SaveResults(self):\n",
    "        # save unique smiles\n",
    "        np.savetxt(self.input_file[:-4]+\"_unique\"+str(self.unique_num)+\".smi\",\\\n",
    "                   self.np_init_smi[self.unique_index], fmt=\"%s\", comments=None)\n",
    "        \n",
    "        # save repeat smiles\n",
    "        np.savetxt(self.input_file[:-4]+\"_repeat\"+str(self.repeat_num)+\".smi\",\\\n",
    "                   self.np_init_smi[self.repeat_index], fmt=\"%s\", comments=None)\n",
    "        \n",
    "        # save log file\n",
    "        self.np_init_inchi = np.array(self.init_inchi)\n",
    "        with open(self.input_file[:-4]+\"_duplicated.log\", \"w\") as fobj:\n",
    "            fobj.write(\"The index was started from 1 (not 0).\\n\\n\")\n",
    "            for repeat in set(self.repeat_inchi):\n",
    "                fobj.write(str(np.where(self.np_init_inchi == repeat)[0]+1))\n",
    "                fobj.write(\"\\n\")\n",
    "        \n",
    "        print(\"Done.\")\n",
    "        print(\"The unique smi file was saved at {}\"\\\n",
    "              .format(self.input_file[:-4]+\"_unique\"+str(self.unique_num)+\".smi\"))\n",
    "        print(\"The repeat smi file was saved at {}\"\\\n",
    "              .format(self.input_file[:-4]+\"_repeat\"+str(self.repeat_num)+\".smi\"))\n",
    "        print(\"The log file was saved at {}\"\\\n",
    "              .format(self.input_file[:-4]+\"_duplicated.log\"))"
   ]
  },
  {
   "cell_type": "code",
   "execution_count": null,
   "metadata": {},
   "outputs": [],
   "source": [
    "model = Duplicate()\n",
    "model.SetInputSDF(\"Q:\\ALK_1_Wild\\ALK_300nM_External\\ChEMBL_TargetID_CHEMBL4247_1810_73_External.sdf\")\n",
    "model.Duplicate()\n",
    "model.SaveResults()"
   ]
  }
 ],
 "metadata": {
  "kernelspec": {
   "display_name": "qudan",
   "language": "python",
   "name": "qudan"
  },
  "language_info": {
   "codemirror_mode": {
    "name": "ipython",
    "version": 3
   },
   "file_extension": ".py",
   "mimetype": "text/x-python",
   "name": "python",
   "nbconvert_exporter": "python",
   "pygments_lexer": "ipython3",
   "version": "3.9.18"
  }
 },
 "nbformat": 4,
 "nbformat_minor": 4
}
