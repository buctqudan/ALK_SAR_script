{
 "cells": [
  {
   "cell_type": "code",
   "execution_count": null,
   "metadata": {},
   "outputs": [],
   "source": [
    "import pandas as pd\n",
    "from rdkit import Chem"
   ]
  },
  {
   "cell_type": "code",
   "execution_count": null,
   "metadata": {},
   "outputs": [],
   "source": [
    "path =r\"Q:\\ALK_1_Wild\\ALK_300nM_External\\ChEMBL_TargetID_CHEMBL4247_1810_External.csv\"# csv文件路径\n",
    "smi_columnName = 'Smiles'   # Smiles列的列名\n",
    "other_columnNames = ['index']  "
   ]
  },
  {
   "cell_type": "code",
   "execution_count": null,
   "metadata": {},
   "outputs": [],
   "source": [
    "def SmilesToSDF(path,smi_columnName='Smiles',other_columnNames=None):\n",
    "    \"\"\"将Smiles转成sdf文件\n",
    "        参数：\n",
    "        -----\n",
    "        path：csv文件路径\n",
    "        smi_columnName：Smiles列的列名\n",
    "        other_columnNames：其他要保存在sdf文件的信息的列名(一个或多个都行)\n",
    "\n",
    "        例子：\n",
    "        -----\n",
    "        path = \"C:/OneDrive/Scholar/Data/sPLA2_558_conv.csv\"\n",
    "        smi_columnName = 'SMILES'\n",
    "        other_columnNames = ['Compound_ID','Activity']\n",
    "        SmilesToSDF(path,smi_columnName=smi_columnName,other_columnNames=other_columnNames)\"\"\"\n",
    "    data = pd.read_csv(path)\n",
    "    mols = []\n",
    "    new_smi = []\n",
    "    for i,smi in enumerate(data.loc[:,smi_columnName]):\n",
    "        m = Chem.MolFromSmiles(smi)\n",
    "        if m is not None:\n",
    "            m.SetProp('_Smiles',smi)\n",
    "            m.SetIntProp('init_index',i+1)\n",
    "            csmi = Chem.MolToSmiles(m)\n",
    "            m.SetProp('RDKit_Canonical_SMILES',csmi)\n",
    "            new_smi.append(csmi)\n",
    "            if other_columnNames is not None:\n",
    "                if type(other_columnNames) == str:\n",
    "                    other_columnNames = [other_columnNames]\n",
    "                for column in other_columnNames:\n",
    "                    column_value = data.loc[:,column][i]\n",
    "                    m.SetProp(column,str(column_value))\n",
    "\n",
    "            mols.append(m)\n",
    "        else:\n",
    "            print('The {}th smiles is invalid!!'.format(i+1))\n",
    "    out_path = path[:path.rfind('.')]+'.sdf'\n",
    "    wt = Chem.SDWriter(out_path)\n",
    "    for m in mols:\n",
    "        wt.write(m)\n",
    "    wt.close()\n",
    "    print('The SD file have been saved in \\033[1m{}\\033[0m'.format(out_path))\n",
    "\n",
    "SmilesToSDF(path,smi_columnName=smi_columnName,other_columnNames=other_columnNames)\n"
   ]
  }
 ],
 "metadata": {
  "kernelspec": {
   "display_name": "Python 3 (ipykernel)",
   "language": "python",
   "name": "python3"
  },
  "language_info": {
   "codemirror_mode": {
    "name": "ipython",
    "version": 3
   },
   "file_extension": ".py",
   "mimetype": "text/x-python",
   "name": "python",
   "nbconvert_exporter": "python",
   "pygments_lexer": "ipython3",
   "version": "3.7.1"
  }
 },
 "nbformat": 4,
 "nbformat_minor": 4
}
