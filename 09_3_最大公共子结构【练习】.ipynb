{
 "cells": [
  {
   "cell_type": "code",
   "execution_count": null,
   "id": "a935ffc7",
   "metadata": {},
   "outputs": [],
   "source": [
    "import numpy as np\n",
    "import pandas as pd\n",
    "from rdkit import Chem\n",
    "from rdkit.Chem import Draw, rdFMCS\n",
    "from rdkit.Chem.Scaffolds import MurckoScaffold\n",
    "from rdkit.Chem.Draw import IPythonConsole"
   ]
  },
  {
   "cell_type": "code",
   "execution_count": null,
   "id": "c389c823",
   "metadata": {},
   "outputs": [],
   "source": [
    "opts = Draw.DrawingOptions()\n",
    "opts.elemDict = {1: (0, 0, 0),\n",
    " 7: (0, 0, 0),\n",
    " 8: (0, 0, 0),\n",
    " 9: (0, 0, 0),\n",
    " 15: (0, 0, 0),\n",
    " 16: (0, 0, 0),\n",
    " 17: (0, 0, 0),\n",
    " 35: (0, 0, 0),\n",
    " 53: (0, 0, 0),\n",
    " 0: (0, 0, 0)}"
   ]
  },
  {
   "cell_type": "code",
   "execution_count": null,
   "id": "04b490fd",
   "metadata": {
    "scrolled": true
   },
   "outputs": [],
   "source": [
    "data = pd.read_csv(r\"Q:\\ALK\\ALK_300nM_cluster_ECFP4\\ChEMBL_TargetID_CHEMBL4247_1810ECFP4_filter_cluster_10_Subset2_163_cluster_list_27.45.50.csv\")\n",
    "suppl = data['smiles']\n",
    "mol_list = []\n",
    "for smiles in suppl:\n",
    "    mol = Chem.MolFromSmiles(smiles)\n",
    "    mol_list.append(mol)\n",
    "\n",
    "res = rdFMCS.FindMCS(mol_list)\n",
    "mol1 = Chem.MolFromSmarts(res.smartsString)\n",
    "mol1 "
   ]
  },
  {
   "cell_type": "code",
   "execution_count": null,
   "id": "1b90381c",
   "metadata": {},
   "outputs": [],
   "source": [
    "smiles=Chem.MolToSmiles(mol1)\n",
    "smiles"
   ]
  },
  {
   "cell_type": "code",
   "execution_count": null,
   "id": "0c5a0448",
   "metadata": {
    "scrolled": true
   },
   "outputs": [],
   "source": [
    "res.smartsString"
   ]
  },
  {
   "cell_type": "code",
   "execution_count": null,
   "id": "63d57d2b",
   "metadata": {},
   "outputs": [],
   "source": [
    "img = Draw.MolToImage(mol1,size=(800,800),options=opts)\n",
    "img.save(r\"Q:\\ALK\\ALK_300nM_cluster_ECFP4\\ChEMBL_TargetID_CHEMBL4247_1810ECFP4_filter_cluster_10_Subset2_163_cluster_list_27.45.50_representative_substructure.png\")"
   ]
  },
  {
   "cell_type": "code",
   "execution_count": null,
   "id": "1a0f7984",
   "metadata": {},
   "outputs": [],
   "source": [
    "Draw.MolsToGridImage(mol_list, molsPerRow=3, subImgSize=(900,900),maxMols=100)"
   ]
  },
  {
   "cell_type": "code",
   "execution_count": null,
   "id": "acfb22bd",
   "metadata": {},
   "outputs": [],
   "source": [
    "img = Draw.MolToImage(mol_list[0],size=(900,900),options=opts)\n",
    "img.save(r\"Q:\\ALK\\ALK_300nM_cluster_ECFP4\\ChEMBL_TargetID_CHEMBL4247_1810ECFP4_filter_cluster_10_Subset2_163_cluster_list_27.45.50_representative_molecule_0.png\")"
   ]
  }
 ],
 "metadata": {
  "kernelspec": {
   "display_name": "qudan",
   "language": "python",
   "name": "qudan"
  },
  "language_info": {
   "codemirror_mode": {
    "name": "ipython",
    "version": 3
   },
   "file_extension": ".py",
   "mimetype": "text/x-python",
   "name": "python",
   "nbconvert_exporter": "python",
   "pygments_lexer": "ipython3",
   "version": "3.9.18"
  }
 },
 "nbformat": 4,
 "nbformat_minor": 5
}
