{
 "cells": [
  {
   "cell_type": "code",
   "execution_count": null,
   "id": "1eb76287",
   "metadata": {},
   "outputs": [],
   "source": [
    "import pandas as pd\n",
    "from sklearn.decomposition import PCA\n",
    "from sklearn.preprocessing import StandardScaler\n",
    "import matplotlib.pyplot as plt"
   ]
  },
  {
   "cell_type": "code",
   "execution_count": null,
   "id": "c7ac5470",
   "metadata": {},
   "outputs": [],
   "source": [
    "# 读取训练集和测试集CSV文件\n",
    "train_data = pd.read_csv(\"Q:\\ALK_1_Wild\\ALK_Dataset\\PCA_300nM_RANDOM\\ChEMBL_TargetID_CHEMBL4247_1810MACCS_tr-ran111.csv\")\n",
    "test_data = pd.read_csv(\"Q:\\ALK_1_Wild\\ALK_Dataset\\PCA_300nM_RANDOM\\ChEMBL_TargetID_CHEMBL4247_1810MACCS_te-ran111.csv\")"
   ]
  },
  {
   "cell_type": "code",
   "execution_count": null,
   "id": "0e23e11b",
   "metadata": {},
   "outputs": [],
   "source": [
    "# 提取训练集和测试集的特征值列\n",
    "X_train = train_data.drop(columns=['label'])\n",
    "X_test = test_data.drop(columns=['label'])"
   ]
  },
  {
   "cell_type": "code",
   "execution_count": null,
   "id": "a288576d",
   "metadata": {},
   "outputs": [],
   "source": [
    "# 数据标准化\n",
    "scaler = StandardScaler()\n",
    "X_train_scaled = scaler.fit_transform(X_train)\n",
    "X_test_scaled = scaler.transform(X_test)"
   ]
  },
  {
   "cell_type": "code",
   "execution_count": null,
   "id": "7980752a",
   "metadata": {},
   "outputs": [],
   "source": [
    "# 进行PCA主成分分析\n",
    "pca = PCA(n_components=2)  # 选择降至2维\n",
    "X_train_pca = pca.fit_transform(X_train_scaled)\n",
    "X_test_pca = pca.transform(X_test_scaled)"
   ]
  },
  {
   "cell_type": "code",
   "execution_count": null,
   "id": "2bd65354",
   "metadata": {},
   "outputs": [],
   "source": [
    "# 获取两个主成分的贡献率\n",
    "explained_variance_ratio = pca.explained_variance_ratio_\n",
    "\n",
    "# 输出两个主成分的贡献率\n",
    "print(\"训练集第一个主成分的贡献率:\", explained_variance_ratio[0])\n",
    "print(\"训练集第二个主成分的贡献率:\", explained_variance_ratio[1])"
   ]
  },
  {
   "cell_type": "code",
   "execution_count": null,
   "id": "7ab9a60d",
   "metadata": {},
   "outputs": [],
   "source": [
    "# 绘制PCA主成分分析后的训练集和测试集二维图像\n",
    "plt.figure(figsize=(10, 8))\n",
    "plt.scatter(X_train_pca[:, 0], X_train_pca[:, 1], label='Training set')\n",
    "plt.scatter(X_test_pca[:, 0], X_test_pca[:, 1], label='Test set', marker='x')\n",
    "plt.xlabel(f'Principal Component 1 (PC1: {explained_variance_ratio[0]:.2f})')\n",
    "plt.ylabel(f'Principal Component 2 (PC2: {explained_variance_ratio[1]:.2f})')\n",
    "plt.title('PCA Analysis of Chemical Space')\n",
    "plt.legend()\n",
    "\n",
    "# 保存图像\n",
    "plt.savefig(\"Q:\\ALK_1_Wild\\ALK_Dataset\\ChEMBL_TargetID_CHEMBL4247_1810MACCS_RANDOM_PCA_Chemical_Space.png\")\n",
    "\n",
    "# 显示图像\n",
    "plt.show()"
   ]
  }
 ],
 "metadata": {
  "kernelspec": {
   "display_name": "Python 3 (ipykernel)",
   "language": "python",
   "name": "python3"
  },
  "language_info": {
   "codemirror_mode": {
    "name": "ipython",
    "version": 3
   },
   "file_extension": ".py",
   "mimetype": "text/x-python",
   "name": "python",
   "nbconvert_exporter": "python",
   "pygments_lexer": "ipython3",
   "version": "3.7.1"
  }
 },
 "nbformat": 4,
 "nbformat_minor": 5
}
