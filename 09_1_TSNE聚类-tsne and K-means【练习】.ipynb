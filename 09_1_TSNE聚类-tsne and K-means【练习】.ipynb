{
 "cells": [
  {
   "cell_type": "code",
   "execution_count": null,
   "metadata": {},
   "outputs": [],
   "source": [
    "import numpy as np\n",
    "import pandas as pd\n",
    "from pandas import Series, DataFrame\n",
    "import matplotlib.pyplot as plt\n",
    "from sklearn.manifold import TSNE\n",
    "from sklearn.cluster import KMeans,SpectralClustering\n",
    "from sklearn import metrics\n",
    "from rdkit import Chem\n",
    "from rdkit.Chem import AllChem\n",
    "from sklearn.decomposition import PCA, KernelPCA\n",
    "from sklearn.preprocessing import MinMaxScaler\n",
    "from rdkit import Chem, DataStructs\n",
    "import matplotlib.pyplot as plt\n",
    "import matplotlib\n",
    "from mpl_toolkits.mplot3d import Axes3D\n",
    "import warnings\n",
    "warnings.filterwarnings(\"ignore\")"
   ]
  },
  {
   "cell_type": "code",
   "execution_count": null,
   "metadata": {},
   "outputs": [],
   "source": [
    "ini_df = pd.read_csv(r\"Q:\\ALK_1_Wild\\ALK_300nM_cluster_ECFP4_new\\ChEMBL_TargetID_CHEMBL4247_1810ECFP4_filter_cluster_10_Subset1_244.csv\")\n",
    "# all_ecfp = ini_df.iloc[:,1:].values\n",
    "all_ecfp = ini_df.iloc[:, :-1].values ## [:,:-1]表示从CSV文件中读取了所有行和所有列，但是去掉最后一列。"
   ]
  },
  {
   "cell_type": "markdown",
   "metadata": {},
   "source": [
    "降成2维"
   ]
  },
  {
   "cell_type": "code",
   "execution_count": null,
   "metadata": {},
   "outputs": [],
   "source": [
    "tsne=TSNE(n_components=2, random_state=0)\n",
    "tsne.fit_transform(all_ecfp)\n",
    "X = tsne.embedding_"
   ]
  },
  {
   "cell_type": "code",
   "execution_count": null,
   "metadata": {},
   "outputs": [],
   "source": [
    "score = 0 \n",
    "score_id = 0\n",
    "best_y_pred = np.array([])\n",
    "for i in range(2,11):\n",
    "        y_pred = KMeans(n_clusters=i,random_state=0).fit_predict(X)\n",
    "        if score < metrics.calinski_harabasz_score(X, y_pred):\n",
    "            score = metrics.calinski_harabasz_score(X, y_pred)\n",
    "            score_id = i\n",
    "            best_y_pred = y_pred\n",
    "print(score)\n",
    "print(score_id)"
   ]
  },
  {
   "cell_type": "code",
   "execution_count": null,
   "metadata": {},
   "outputs": [],
   "source": [
    "Cluster = KMeans(n_clusters=10,random_state=0, max_iter=300).fit(X)\n",
    "centers = Cluster.cluster_centers_\n",
    "metrics.calinski_harabasz_score(X,y_pred)"
   ]
  },
  {
   "cell_type": "code",
   "execution_count": null,
   "metadata": {},
   "outputs": [],
   "source": [
    "Cluster = KMeans(n_clusters=10,random_state=0, max_iter=300).fit(X)\n",
    "y_pred = Cluster.predict(X)\n",
    "y_pred.tofile(r\"Q:\\ALK_1_Wild\\ALK_300nM_cluster_ECFP4_new\\ChEMBL_TargetID_CHEMBL4247_1810ECFP4_filter_cluster_10.csv\",sep='\\n')"
   ]
  },
  {
   "cell_type": "code",
   "execution_count": null,
   "metadata": {},
   "outputs": [],
   "source": [
    "centers = Cluster.cluster_centers_\n",
    "metrics.calinski_harabasz_score(X,y_pred)"
   ]
  },
  {
   "cell_type": "code",
   "execution_count": null,
   "metadata": {
    "scrolled": true
   },
   "outputs": [],
   "source": [
    "closest, _ = metrics.pairwise_distances_argmin_min(Cluster.cluster_centers_, X)\n",
    "closest"
   ]
  },
  {
   "cell_type": "code",
   "execution_count": null,
   "metadata": {},
   "outputs": [],
   "source": [
    "matplotlib.rcParams['font.family']='Times New Roman'\n",
    "#color = ['#ff9999','SkyBlue','#5F9EA0','#FF34B3','y','#8B8989','#00008B','g']\n",
    "color = ['ForestGreen','#7B68EE','#00FFFF','#EE5C42','#1E90FF','plum','gold','grey','Pink','DeepSkyBlue']\n",
    "marker = ['x','+','1','^','*','p','d','3','h','v']\n",
    "plt.clf()\n",
    "class_plot=[]\n",
    "label_list=[]\n",
    "for i in range(10):\n",
    "    class_plot.append(plt.plot(X[:,0][np.where(y_pred==i)], X[:,1][np.where(y_pred==i)], \n",
    "                marker=marker[i],c=color[i],alpha=0.8,markerfacecolor='w',markersize=6,linestyle='')[0])\n",
    "    label_list.append('subset %d'%(i+1))\n",
    "# plt.plot(centers[:,0],centers[:,1],'ok')\n",
    "center_plot =plt.plot(X[closest][:,0],X[closest][:,1],marker='x',c='k',\n",
    "                      linestyle='',markersize=6)\n",
    "l1=plt.legend(center_plot,['center'],loc=\"best\",ncol=1,fontsize='small')\n",
    "plt.legend(class_plot,label_list,ncol=1,fontsize='small',bbox_to_anchor=(1.01,0.05),loc=3,borderaxespad=0)\n",
    "plt.gca().add_artist(l1,)\n",
    "plt.xticks(())\n",
    "plt.yticks(())\n",
    "plt.savefig(r\"Q:\\ALK_1_Wild\\ALK_300nM_cluster_ECFP4_new\\ChEMBL_TargetID_CHEMBL4247_1810ECFP4_filter_cluster_10.tif\", dpi=300, bbox_inches=\"tight\")\n",
    "plt.show()"
   ]
  }
 ],
 "metadata": {
  "kernelspec": {
   "display_name": "qudan",
   "language": "python",
   "name": "qudan"
  },
  "language_info": {
   "codemirror_mode": {
    "name": "ipython",
    "version": 3
   },
   "file_extension": ".py",
   "mimetype": "text/x-python",
   "name": "python",
   "nbconvert_exporter": "python",
   "pygments_lexer": "ipython3",
   "version": "3.9.18"
  },
  "toc": {
   "colors": {
    "hover_highlight": "#DAA520",
    "navigate_num": "#000000",
    "navigate_text": "#333333",
    "running_highlight": "#FF0000",
    "selected_highlight": "#FFD700",
    "sidebar_border": "#EEEEEE",
    "wrapper_background": "#ffffff"
   },
   "moveMenuLeft": true,
   "nav_menu": {
    "height": "12px",
    "width": "252px"
   },
   "navigate_menu": true,
   "number_sections": true,
   "sideBar": true,
   "threshold": 4,
   "toc_cell": false,
   "toc_section_display": "block",
   "toc_window_display": false,
   "widenNotebook": false
  }
 },
 "nbformat": 4,
 "nbformat_minor": 4
}
