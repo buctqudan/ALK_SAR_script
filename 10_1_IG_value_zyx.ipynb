{
 "cells": [
  {
   "cell_type": "code",
   "execution_count": 1,
   "metadata": {},
   "outputs": [],
   "source": [
    "import pandas as pd\n",
    "import numpy as np"
   ]
  },
  {
   "cell_type": "code",
   "execution_count": 2,
   "metadata": {},
   "outputs": [],
   "source": [
    "def cal_entropy(x):\n",
    "    Ent=0    #### 初始化信息熵\n",
    "    for i in x.unique():\n",
    "        p    = (x[x==i].count())/(x.count())  #### 计算每个类别的比率\n",
    "        Ent -= p*np.log2(p) #### 计算信息熵\n",
    "    return Ent\n",
    "def cal_ig(x,y):\n",
    "    Ent_y   = cal_entropy(y)  #### 计算因变量y的信息熵\n",
    "    Ent_y_x = 0               #### 初始化条件熵\n",
    "    for i in x.unique():\n",
    "        sample_i = y[x==i]\n",
    "        p_i      = sample_i.count()/y.count()    #### 计算随机变量X中每类的比率\n",
    "        Ent_y_x += p_i*cal_entropy(sample_i)     #### 计算条件熵\n",
    "    return Ent_y-Ent_y_x      #### 返回信息增益值（越大说明特征X越重要）\n",
    "def cal_igr(x,y):\n",
    "    ig=cal_ig(x,y)\n",
    "    Ent_x=cal_entropy(x)\n",
    "    igr=ig/Ent_x        #### 计算信息增益比（越大说明特征X越重要）\n",
    "    return igr"
   ]
  },
  {
   "cell_type": "code",
   "execution_count": 3,
   "metadata": {},
   "outputs": [],
   "source": [
    "def cal_gini(x):\n",
    "    gini=1      #### 初始化基尼指数\n",
    "    for i in x.unique():\n",
    "        p    = (x[x==i].count())/(x.count())     #### 计算单一随机变量中每类的比率\n",
    "        gini -= p**2   #### 计算单一随机变量的基尼指数\n",
    "    return gini\n",
    "def cal_cond_gini(x,y):\n",
    "    gini_y   = cal_gini(y)    #### 计算随机变量Y的基尼指数\n",
    "    gini_y_x = 0\n",
    "    for i in x.unique():\n",
    "        sample_i  = y[x==i]\n",
    "        p_i       = sample_i.count()/y.count()\n",
    "        gini_y_x += p_i*cal_gini(sample_i)   #### 计算条件基尼指数（越小说明特征X越重要）\n",
    "    return gini_y_x"
   ]
  },
  {
   "cell_type": "code",
   "execution_count": 4,
   "metadata": {},
   "outputs": [],
   "source": [
    "data_init=pd.read_csv(r\"Q:\\ALK_1_Wild\\ALK_300nM_cluster_ECFP4_new\\ChEMBL_TargetID_CHEMBL4247_1810ECFP4_filter_ECFP4_IG.csv\")\n",
    "a=data_init.loc[:,'label':]"
   ]
  },
  {
   "cell_type": "markdown",
   "metadata": {},
   "source": [
    "# ig-ecfp4"
   ]
  },
  {
   "cell_type": "code",
   "execution_count": 5,
   "metadata": {},
   "outputs": [],
   "source": [
    "with open(r\"Q:\\ALK_1_Wild\\ALK_300nM_cluster_ECFP4_new\\ChEMBL_TargetID_CHEMBL4247_1810ECFP4_filter_ECFP4_IG_value.csv\", 'w') as f:\n",
    "    for i in range(1, 388):\n",
    "        f.write(\"ecfp_\" + str(i) + \",\")\n",
    "        \n",
    "        igrate=cal_ig(a.iloc[:,i],a.iloc[:,0])\n",
    "        if np.isnan(igrate):\n",
    "            igrate = 0\n",
    "        \n",
    "        f.write(str(igrate) + \"\\n\")"
   ]
  }
 ],
 "metadata": {
  "kernelspec": {
   "display_name": "Python 3 (ipykernel)",
   "language": "python",
   "name": "python3"
  },
  "language_info": {
   "codemirror_mode": {
    "name": "ipython",
    "version": 3
   },
   "file_extension": ".py",
   "mimetype": "text/x-python",
   "name": "python",
   "nbconvert_exporter": "python",
   "pygments_lexer": "ipython3",
   "version": "3.7.1"
  }
 },
 "nbformat": 4,
 "nbformat_minor": 2
}
