{
 "cells": [
  {
   "cell_type": "code",
   "execution_count": null,
   "metadata": {
    "scrolled": true
   },
   "outputs": [],
   "source": [
    "import numpy as np\n",
    "import pandas as pd\n",
    "import warnings,re,datetime\n",
    "import matplotlib\n",
    "import matplotlib.pyplot as plt\n",
    "from pandas import Series, DataFrame\n",
    "from sklearn.preprocessing import MinMaxScaler\n",
    "from sklearn.model_selection import GridSearchCV, StratifiedKFold, cross_val_score, LeaveOneOut\n",
    "from sklearn.metrics import make_scorer, accuracy_score, precision_score, recall_score, matthews_corrcoef, roc_curve, roc_auc_score\n",
    "\n",
    "from sklearn.tree import DecisionTreeClassifier\n",
    "\n"
   ]
  },
  {
   "cell_type": "code",
   "execution_count": null,
   "metadata": {},
   "outputs": [],
   "source": [
    "def show_metrics(y_true, y_pred):\n",
    "    tp = 0\n",
    "    fp = 0\n",
    "    tn = 0\n",
    "    fn = 0\n",
    "    for i in range(int(y_true.shape[0])):\n",
    "        if y_true[i] == 1 and y_pred[i] == 1:\n",
    "            tp += 1\n",
    "        if y_true[i] == 1 and y_pred[i] == 0:\n",
    "            fn += 1\n",
    "        if y_true[i] == 0 and y_pred[i] == 1:\n",
    "            fp += 1\n",
    "        if y_true[i] == 0 and y_pred[i] == 0:\n",
    "            tn += 1\n",
    "    se = float(tp) / ( float(tp)+float(fn) )\n",
    "    sp = float(tn) / ( float(tn)+float(fp) )\n",
    "    print(\"tp=%d, tn=%d, fp=%d, fn=%d\" % (tp, tn, fp, fn))\n",
    "    print(\"sensitivity = %.2f%%, specificity = %.2f%%\" % (100*se, 100*sp))\n",
    "    print(\"accuracy=%.2f%%, precision=%.2f%%, recall=%.2f%%, MCC=%.4f\" % (100*accuracy_score(y_true, y_pred), 100*precision_score(y_true, y_pred), 100*recall_score(y_true, y_pred), matthews_corrcoef(y_true, y_pred)))"
   ]
  },
  {
   "cell_type": "code",
   "execution_count": null,
   "metadata": {},
   "outputs": [],
   "source": [
    "# # 这部分是划分好的文件输入用一下代码框：第1-4组为SOM划分的四组训练集和测试集\n",
    "tr_csv = r\"Q:\\ALK_1_Wild\\3.ALK_300nM_RANDOM_ECFP4\\ChEMBL_TargetID_CHEMBL4247_1810ECFP4_filter387-ran-111_tr_1212.csv\"\n",
    "te_csv = r\"Q:\\ALK_1_Wild\\3.ALK_300nM_RANDOM_ECFP4\\ChEMBL_TargetID_CHEMBL4247_1810ECFP4_filter387-ran-111_te_598.csv\"\n",
    "\n",
    "tr_x = pd.read_csv(tr_csv).iloc[:,:-1] #这一步如果活性列在最后一列就是\"-1\"；注意修改读取范围\n",
    "te_x = pd.read_csv(te_csv).iloc[:,:-1]\n",
    "tr_y = pd.read_csv(tr_csv).iloc[:,-1]\n",
    "te_y = pd.read_csv(te_csv).iloc[:,-1]\n",
    "tr_x"
   ]
  },
  {
   "cell_type": "code",
   "execution_count": null,
   "metadata": {},
   "outputs": [],
   "source": [
    "# # 这部分是划分好的文件输入用一下代码框：第9-12组为random划分的四组训练集和测试集（有index）\n",
    "tr_csv = r\"Q:\\ALK_1_Wild\\3.ALK_300nM_RANDOM_ECFP4\\index_ChEMBL_TargetID_CHEMBL4247_1810ECFP4_filter387-ran-111_tr_1212.csv\"\n",
    "te_csv = r\"Q:\\ALK_1_Wild\\3.ALK_300nM_RANDOM_ECFP4\\index_ChEMBL_TargetID_CHEMBL4247_1810ECFP4_filter387-ran-111_te_598.csv\"\n",
    "\n",
    "tr_x = pd.read_csv(tr_csv).iloc[:,:-2] #这一步如果活性列在倒数第二列，\"-2\"；注意修改读取范围\n",
    "te_x = pd.read_csv(te_csv).iloc[:,:-2]\n",
    "tr_y = pd.read_csv(tr_csv).iloc[:,-2]\n",
    "te_y = pd.read_csv(te_csv).iloc[:,-2]\n",
    "tr_x"
   ]
  },
  {
   "cell_type": "code",
   "execution_count": null,
   "metadata": {},
   "outputs": [],
   "source": [
    "# 数据压缩 Data Processing\n",
    "if (tr_x.describe().loc['min',:].min() == 0 and tr_x.describe().loc['max',:].max() == 1):\n",
    "    tr_feature = tr_x\n",
    "    te_feature = te_x\n",
    "else:\n",
    "    scaler = MinMaxScaler(feature_range=(0.1, 0.9))\n",
    "    tr_feature = scaler.fit_transform(tr_x)\n",
    "    te_feature = scaler.transform(te_x)\n",
    "\n",
    "tr_label = tr_y\n",
    "te_label = te_y\n",
    "tr_feature"
   ]
  },
  {
   "cell_type": "code",
   "execution_count": null,
   "metadata": {},
   "outputs": [],
   "source": [
    "# 参数寻优\n",
    "criterion_list = ['gini','entropy']\n",
    "max_depth_list = range(1,30,2)\n",
    "max_features_list = [None,'sqrt','log2']\n",
    "max_leaf_nodes_list = range(1,101,10)\n",
    "\n",
    "warnings.filterwarnings(\"ignore\")\n",
    "\n",
    "grid_dict = {'criterion':criterion_list,'max_depth':max_depth_list,'max_features':max_features_list,'max_leaf_nodes':max_leaf_nodes_list}\n",
    "\n",
    "grid_score_mcc = make_scorer(matthews_corrcoef, greater_is_better=True)\n",
    "\n",
    "grid_cv = StratifiedKFold(n_splits=5, shuffle=True, random_state=3)\n",
    "\n",
    "grid_dtc = DecisionTreeClassifier(random_state = 3)\n",
    "\n",
    "Grid = GridSearchCV(grid_dtc, grid_dict, scoring=grid_score_mcc, cv=grid_cv)\n",
    "\n",
    "Grid.fit(tr_feature, tr_label)\n",
    "print(Grid.best_params_)"
   ]
  },
  {
   "cell_type": "code",
   "execution_count": null,
   "metadata": {},
   "outputs": [],
   "source": [
    "# 参数寻优（过程结果）\n",
    "score = []\n",
    "for p, s in zip(Grid.cv_results_['params'],\n",
    "\tGrid.cv_results_['mean_test_score']):\n",
    "\tprint(p, s)\n",
    "plt.plot(score)\n",
    "plt.savefig(r\"Q:\\ALK_1_Wild\\ALK_300nM_RANDOM_ECFP4\\ECFP4_filter387_DT\\ChEMBL_TargetID_CHEMBL4247_1810ECFP4_filter387_DT-16.png\", dpi=1000, bbox_inches=\"tight\" )\n",
    "plt.show()"
   ]
  },
  {
   "cell_type": "code",
   "execution_count": null,
   "metadata": {
    "scrolled": true
   },
   "outputs": [],
   "source": [
    "# 参数寻优（最优结果输出）\n",
    "Grid.best_estimator_"
   ]
  },
  {
   "cell_type": "code",
   "execution_count": null,
   "metadata": {
    "scrolled": false
   },
   "outputs": [],
   "source": [
    "# 建模结果（寻优后参数模型）\n",
    "\n",
    "# model_dtc = DecisionTreeClassifier(criterion = Grid.best_params_['criterion'],\n",
    "#                                    max_depth = Grid.best_params_['max_depth'],\n",
    "#                                    max_features = Grid.best_params_['max_features'],\n",
    "#                                    max_leaf_nodes = Grid.best_params_['max_leaf_nodes'],\n",
    "#                                    random_state = 3)\n",
    "model_dtc = DecisionTreeClassifier(criterion = 'gini',\n",
    "                                   max_depth = 9,\n",
    "                                   max_features = None,\n",
    "                                   max_leaf_nodes = 41,\n",
    "                                   random_state = 3) ## 创建一个决策树分类（DT）模型，记得改参数！！！\n",
    "model_dtc.fit(tr_feature, tr_label)\n",
    "tr_pre_label = model_dtc.predict(tr_feature)\n",
    "te_pre_label = model_dtc.predict(te_feature)\n",
    "\n",
    "print(\"training set:\\n\")\n",
    "show_metrics(tr_label, tr_pre_label)\n",
    "print(\"\\n\\ntest set:\\n\")\n",
    "show_metrics(te_label, te_pre_label)"
   ]
  },
  {
   "cell_type": "code",
   "execution_count": null,
   "metadata": {},
   "outputs": [],
   "source": [
    "# 保存模型\n",
    "import joblib\n",
    "joblib.dump(model_dtc, r\"Q:\\ALK_1_Wild\\ALK_300nM_RANDOM_ECFP4\\ECFP4_filter387_DT\\ChEMBL_TargetID_CHEMBL4247_1810ECFP4_filter387_DT-16.pkl\")"
   ]
  },
  {
   "cell_type": "code",
   "execution_count": null,
   "metadata": {},
   "outputs": [],
   "source": [
    "# 导出训练集预测结果 Training set result file\n",
    "train_file_path = \"Q:\\ALK_1_Wild\\ALK_300nM_RANDOM_ECFP4\\ECFP4_filter387_DT\\ChEMBL_TargetID_CHEMBL4247_1810ECFP4_filter387_DT-16_training_results.csv\"\n",
    "with open(train_file_path, \"w\") as train_file:\n",
    "    train_file.write(\"tr_label,tr_pre_label\\n\")\n",
    "  \n",
    "    # Write training set results to file\n",
    "    for tr_label_i, tr_pre_label_i in zip(tr_label, tr_pre_label):\n",
    "        train_file.write(f\"{tr_label_i},{tr_pre_label_i}\\n\")"
   ]
  },
  {
   "cell_type": "code",
   "execution_count": null,
   "metadata": {},
   "outputs": [],
   "source": [
    "# 导出测试集预测结果 Testing set result file\n",
    "test_file_path = \"Q:\\ALK_1_Wild\\ALK_300nM_RANDOM_ECFP4\\ECFP4_filter387_DT\\ChEMBL_TargetID_CHEMBL4247_1810ECFP4_filter387_DT-16_testing_results.csv\"\n",
    "with open(test_file_path, \"w\") as test_file:\n",
    "    test_file.write(\"te_label,te_pre_label\\n\")\n",
    "\n",
    "    # Write testing set results to file\n",
    "    for te_label_i, te_pre_label_i in zip(te_label, te_pre_label):\n",
    "        test_file.write(f\"{te_label_i},{te_pre_label_i}\\n\")"
   ]
  },
  {
   "cell_type": "code",
   "execution_count": null,
   "metadata": {},
   "outputs": [],
   "source": [
    "# 外部测试集验证\n",
    "\n",
    "def load_external_test_data(file_path):\n",
    "    df = pd.read_csv(file_path)\n",
    "    ext_te_feature = df.drop('label', axis=1)  # 特征数据\n",
    "    ext_te_label = df['label']  # 标签\n",
    "    return ext_te_feature, ext_te_label\n",
    "\n",
    "# 外部测试集的 CSV 文件路径\n",
    "# external_test_file_path = \"Q:\\ALK_1_Wild\\ALK_300nM_External\\ChEMBL_TargetID_CHEMBL4247_1810_ExternalECFP4.csv\"\n",
    "external_test_file_path = \"Q:\\ALK_1_Wild\\ALK_300nM_External\\ChEMBL_TargetID_CHEMBL4247_1810_ExternalECFP4_filter387.csv\"\n",
    "\n",
    "# 加载外部测试集数据\n",
    "ext_te_feature, ext_te_label = load_external_test_data(external_test_file_path)\n",
    "\n",
    "# 使用相同的标准化器对外部测试集进行标准化\n",
    "scaler = MinMaxScaler()\n",
    "ext_te_feature = scaler.fit_transform(ext_te_feature)\n",
    "\n",
    "# 使用训练好的模型对外部测试集进行预测\n",
    "ext_te_pre_label = model_dtc.predict(ext_te_feature)\n",
    "\n",
    "# 打印外部测试集的预测结果\n",
    "print(\"\\nexternal test set predictions:\\n\")\n",
    "show_metrics(ext_te_label, ext_te_pre_label)"
   ]
  },
  {
   "cell_type": "code",
   "execution_count": null,
   "metadata": {
    "scrolled": true
   },
   "outputs": [],
   "source": [
    "# 用于检查训练时使用的特征数量和预测时传递给模型的特征数量是否相同。确保外部测试集的特征数量与训练集的特征数量一致\n",
    "print(\"训练集特征数量:\", tr_feature.shape[1])\n",
    "print(\"外部测试集特征数量:\", ext_te_feature.shape[1])"
   ]
  },
  {
   "cell_type": "code",
   "execution_count": null,
   "metadata": {
    "scrolled": true
   },
   "outputs": [],
   "source": [
    "# 5-CV & 10-CV & LOO\n",
    "# cv_dtc = DecisionTreeClassifier(criterion=Grid.best_params_['criterion'],\n",
    "#                                  max_depth = Grid.best_params_['max_depth'],\n",
    "#                                  max_features = Grid.best_params_['max_features'],\n",
    "#                                  max_leaf_nodes=Grid.best_params_['max_leaf_nodes'], random_state=3)\n",
    "cv_dtc = DecisionTreeClassifier(criterion = 'gini',\n",
    "                                   max_depth = 9,\n",
    "                                   max_features = None,\n",
    "                                   max_leaf_nodes = 41,\n",
    "                                   random_state = 3) ## 创建一个决策树分类（DT）模型，记得改参数！！！\n",
    "cv_score_accuracy = make_scorer(accuracy_score)\n",
    "cv_cv5 = StratifiedKFold(n_splits=5, shuffle=True, random_state=0)\n",
    "cv_cv10 = StratifiedKFold(n_splits=10, shuffle=True, random_state=0)\n",
    "cv_cvloo = LeaveOneOut()\n",
    "print(\"5-fold: %.2f%%\" % (100 * np.mean(cross_val_score(cv_dtc, tr_feature, tr_label, scoring=cv_score_accuracy, cv=cv_cv5))))\n",
    "print(\"10-fold: %.2f%%\" % (100 * np.mean(cross_val_score(cv_dtc, tr_feature, tr_label, scoring=cv_score_accuracy, cv=cv_cv10))))\n",
    "print(\"leave-one-out: %.2f%%\" % (100 * np.mean(cross_val_score(cv_dtc, tr_feature, tr_label, scoring=cv_score_accuracy, cv=cv_cvloo))))"
   ]
  },
  {
   "cell_type": "code",
   "execution_count": null,
   "metadata": {
    "scrolled": true
   },
   "outputs": [],
   "source": [
    "# Calculating ROC curve.\n",
    "tr_decision_score = model_dtc.predict_proba(tr_feature)[:,1] #不一样诶？\n",
    "te_decision_score = model_dtc.predict_proba(te_feature)[:,1] #不一样诶？\n",
    "tr_roc_inform = roc_curve(tr_label,tr_decision_score,drop_intermediate=False)\n",
    "te_roc_inform = roc_curve(te_label,te_decision_score,drop_intermediate=False)\n",
    "tr_auc_str = \"AUC (Training set): \" + str(round(roc_auc_score(tr_label, tr_decision_score),3))\n",
    "te_auc_str = \"AUC (Test set): \" + str(round(roc_auc_score(te_label, te_decision_score),3))\n",
    "plt.clf()\n",
    "matplotlib.rcParams['font.family'] = 'Times New Roman'\n",
    "plt.plot(tr_roc_inform[0], tr_roc_inform[1], 'b',label=\"Training set\")\n",
    "plt.plot(te_roc_inform[0], te_roc_inform[1], 'r-.', label=\"Test set\")\n",
    "plt.text(0.6,0.8,tr_auc_str+'\\n'+te_auc_str)\n",
    "plt.xlabel(\"False positive rate\")\n",
    "plt.ylabel(\"True positive rate\")\n",
    "plt.legend(loc=\"best\")\n",
    "plt.savefig(r\"C:\\Users\\lab408\\Desktop\\iii.tif\", dpi=1000, bbox_inches=\"tight\")\n",
    "plt.show()"
   ]
  },
  {
   "cell_type": "code",
   "execution_count": null,
   "metadata": {},
   "outputs": [],
   "source": [
    "# 将tr_proba输出到CSV文件\n",
    "tr_proba = model_dtc.predict_proba(tr_feature) \n",
    "tr_decision_score_df = pd.DataFrame(tr_proba, columns=['Class_0_Proba', 'Class_1_Proba'])\n",
    "tr_decision_score_df.to_csv(r\"Q:\\ALK_1_Wild\\3.ALK_300nM_RANDOM_ECFP4\\ECFP4_filter387_DT\\ChEMBL_TargetID_CHEMBL4247_1810ECFP4_filter387_DT-16_tr_proba.csv\", index=False)"
   ]
  },
  {
   "cell_type": "code",
   "execution_count": null,
   "metadata": {},
   "outputs": [],
   "source": [
    "# 将te_proba输出到CSV文件\n",
    "te_proba = model_dtc.predict_proba(te_feature) \n",
    "te_decision_score_df = pd.DataFrame(te_proba, columns=['Class_0_Proba', 'Class_1_Proba'])\n",
    "te_decision_score_df.to_csv(r\"Q:\\ALK_1_Wild\\3.ALK_300nM_RANDOM_ECFP4\\ECFP4_filter387_DT\\ChEMBL_TargetID_CHEMBL4247_1810ECFP4_filter387_DT-16_te_proba.csv\", index=False)"
   ]
  }
 ],
 "metadata": {
  "kernelspec": {
   "display_name": "qudan0327",
   "language": "python",
   "name": "python3"
  },
  "language_info": {
   "codemirror_mode": {
    "name": "ipython",
    "version": 3
   },
   "file_extension": ".py",
   "mimetype": "text/x-python",
   "name": "python",
   "nbconvert_exporter": "python",
   "pygments_lexer": "ipython3",
   "version": "3.9.18"
  },
  "toc": {
   "base_numbering": 1,
   "nav_menu": {
    "height": "12px",
    "width": "252px"
   },
   "number_sections": true,
   "sideBar": true,
   "skip_h1_title": false,
   "title_cell": "Table of Contents",
   "title_sidebar": "Contents",
   "toc_cell": false,
   "toc_position": {},
   "toc_section_display": "block",
   "toc_window_display": false
  }
 },
 "nbformat": 4,
 "nbformat_minor": 4
}
