{
 "cells": [
  {
   "cell_type": "code",
   "execution_count": null,
   "metadata": {},
   "outputs": [],
   "source": [
    "import pandas as pd\n",
    "import numpy as np\n",
    "from rdkit import Chem, DataStructs\n",
    "from rdkit.Chem import Draw, AllChem,MACCSkeys\n",
    "# from rdkit.Chem.Draw import IPythonConsole,DrawingOptions\n",
    "# Chem.Draw.IPythonConsole.ipython_useSVG = True\n",
    "# DrawingOptions.includeAtomNumbers = True\n",
    "from rdkit import rdBase\n",
    "#rdBase.rdkitVersion == '2018.09.1'"
   ]
  },
  {
   "cell_type": "code",
   "execution_count": null,
   "metadata": {},
   "outputs": [],
   "source": [
    "path =r\"Q:\\ALK_1_Wild\\ALK_300nM_External\\ChEMBL_TargetID_CHEMBL4247_1810_73_External.sdf\"\n",
    "mols = Chem.SDMolSupplier(path)\n",
    "print(\"从 SDF 文件中读取了 {:d} 个分子\".format(len(mols)))\n",
    "for mol in mols:\n",
    "    if mol is None:\n",
    "        print(\"其中有分子读取错误\")"
   ]
  },
  {
   "cell_type": "markdown",
   "metadata": {},
   "source": [
    "### 计算MACCS Fingerprint"
   ]
  },
  {
   "cell_type": "code",
   "execution_count": null,
   "metadata": {},
   "outputs": [],
   "source": [
    "MACCSFps = [list(MACCSkeys.GenMACCSKeys(m).ToBitString()[1:]) for m in mols]\n",
    "columns = [\"MACCS\" + str(i) for i in range(1,167)]#计算166bits的MACCS指纹\n",
    "data = pd.DataFrame(MACCSFps,columns=columns,dtype=np.int8)\n",
    "data.to_csv(path[:-4]+\"MACCS.csv\",index=False)#保存计算文件为csv格式"
   ]
  },
  {
   "cell_type": "markdown",
   "metadata": {},
   "source": [
    "### 计算morgan"
   ]
  },
  {
   "cell_type": "code",
   "execution_count": null,
   "metadata": {},
   "outputs": [],
   "source": [
    "fps = [list(AllChem.GetMorganFingerprintAsBitVect(m, 2, nBits=1024,useChirality=True).ToBitString()) for m in mols]\n",
    "columns = [\"ECFP_\" + str(i) for i in range(1,len(fps[0])+1)]\n",
    "data = pd.DataFrame(fps,columns=columns,dtype=np.int8)\n",
    "data.to_csv(path[:-4]+\"ECFP4.csv\",index=False)"
   ]
  }
 ],
 "metadata": {
  "kernelspec": {
   "display_name": "Python 3 (ipykernel)",
   "language": "python",
   "name": "python3"
  },
  "language_info": {
   "codemirror_mode": {
    "name": "ipython",
    "version": 3
   },
   "file_extension": ".py",
   "mimetype": "text/x-python",
   "name": "python",
   "nbconvert_exporter": "python",
   "pygments_lexer": "ipython3",
   "version": "3.7.1"
  },
  "toc": {
   "base_numbering": 1,
   "nav_menu": {},
   "number_sections": true,
   "sideBar": true,
   "skip_h1_title": false,
   "title_cell": "Table of Contents",
   "title_sidebar": "Contents",
   "toc_cell": true,
   "toc_position": {},
   "toc_section_display": true,
   "toc_window_display": false
  }
 },
 "nbformat": 4,
 "nbformat_minor": 4
}
