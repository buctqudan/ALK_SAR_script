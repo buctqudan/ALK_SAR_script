{
 "cells": [
  {
   "cell_type": "code",
   "execution_count": null,
   "metadata": {},
   "outputs": [],
   "source": [
    "from rdkit import DataStructs\n",
    "from rdkit.Chem import MolFromSmiles,SDMolSupplier,MACCSkeys,AllChem\n",
    "#以下两行语句是为了使分子显示为矢量图，更加清晰\n",
    "from rdkit.Chem.Draw import IPythonConsole\n",
    "IPythonConsole.ipython_useSVG = True\n",
    "import numpy as np\n",
    "import pandas as pd"
   ]
  },
  {
   "cell_type": "code",
   "execution_count": null,
   "metadata": {},
   "outputs": [],
   "source": [
    "sdf_path = r\"Q:\\ALK\\ChEMBL_TargetID_CHEMBL4247_1810.sdf\"\n",
    "ms = SDMolSupplier(sdf_path)\n",
    "# fps = [MACCSkeys.GenMACCSKeys(x) for x in ms]\n",
    "fps =[AllChem.GetMorganFingerprintAsBitVect(x,2,nBits=1024,useChirality=True) for x in ms]"
   ]
  },
  {
   "cell_type": "code",
   "execution_count": null,
   "metadata": {},
   "outputs": [],
   "source": [
    "hot_data = np.eye(len(fps))\n",
    "for i in range(len(fps)):\n",
    "    for j in range(i+1,len(fps)):\n",
    "        hot_data[i,j] = DataStructs.FingerprintSimilarity(fps[i],fps[j])\n",
    "        hot_data[j,i] = hot_data[i,j]"
   ]
  },
  {
   "cell_type": "code",
   "execution_count": null,
   "metadata": {},
   "outputs": [],
   "source": [
    "hot_data.mean()"
   ]
  },
  {
   "cell_type": "code",
   "execution_count": null,
   "metadata": {},
   "outputs": [],
   "source": [
    "from matplotlib import rcParams\n",
    "rcParams['font.family'] = 'serif'\n",
    "rcParams['font.serif'] = ['Times New Roman']"
   ]
  },
  {
   "cell_type": "code",
   "execution_count": null,
   "metadata": {
    "scrolled": true
   },
   "outputs": [],
   "source": [
    "import matplotlib.pyplot as plt\n",
    "plt.clf()\n",
    "plt.figure(facecolor=\"w\")\n",
    "ax = plt.gca()\n",
    "ax.xaxis.set_ticks_position(\"top\") \n",
    "plt.imshow(hot_data,cmap='rainbow')  #dir(plt.cm)查看颜色库\n",
    "plt.colorbar()\n",
    "plt.savefig(r\"Q:\\ALK\\ChEMBL_TargetID_CHEMBL4247_1810_ECFP4_Tanimoto_hotmap.tif\", dpi=600, bbox_inches=\"tight\")\n",
    "plt.show()"
   ]
  },
  {
   "cell_type": "code",
   "execution_count": null,
   "metadata": {},
   "outputs": [],
   "source": [
    "hist = np.triu(hot_data,1).flatten()\n",
    "hist = hist[hist>0]"
   ]
  },
  {
   "cell_type": "code",
   "execution_count": null,
   "metadata": {
    "scrolled": true
   },
   "outputs": [],
   "source": [
    "import matplotlib.pyplot as plt\n",
    "from matplotlib.ticker import FuncFormatter\n",
    "plt.rcParams['font.family'] = ['Times New Roman']# 设置字体\n",
    "plt.clf()\n",
    "plt.figure(facecolor=\"w\")\n",
    "plt.hist(hist,bins=50,range=(0,1),weights= [1./ len(hist)]*len(hist),facecolor=\"w\",edgecolor=\"k\",alpha=1)\n",
    "# 把y轴转化为百分比。\n",
    "def to_percent(y, position):\n",
    "    y = round(y,3)\n",
    "    return str(100 * y) + '%'\n",
    "formatter = FuncFormatter(to_percent)\n",
    "plt.gca().yaxis.set_major_formatter(formatter)\n",
    "plt.ylabel(\"Frequncy\",fontsize=12)\n",
    "plt.xlabel(\"Tanimoto Similarity\",fontsize=12)\n",
    "#plt.grid(True)\n",
    "plt.xticks(fontsize=12)\n",
    "plt.yticks(fontsize=12)\n",
    "plt.xlim(-0.05,1.05)\n",
    "plt.savefig(r\"Q:\\ALK\\ChEMBL_TargetID_CHEMBL4247_1810_ECFP4_Tanimoto_Frequncy.png\", dpi=600, bbox_inches=\"tight\")\n",
    "plt.show()"
   ]
  },
  {
   "cell_type": "code",
   "execution_count": null,
   "metadata": {},
   "outputs": [],
   "source": [
    "hist.mean()"
   ]
  },
  {
   "cell_type": "code",
   "execution_count": null,
   "metadata": {},
   "outputs": [],
   "source": [
    "len(hist)"
   ]
  },
  {
   "cell_type": "code",
   "execution_count": null,
   "metadata": {},
   "outputs": [],
   "source": [
    "sum(hist<0.7)/len(hist)"
   ]
  },
  {
   "cell_type": "code",
   "execution_count": null,
   "metadata": {},
   "outputs": [],
   "source": [
    "sum(hist<0.5)/len(hist)"
   ]
  },
  {
   "cell_type": "code",
   "execution_count": null,
   "metadata": {
    "scrolled": true
   },
   "outputs": [],
   "source": [
    "import numpy as np\n",
    "import pandas as pd\n",
    "value = pd.read_csv(r\"Q:\\ALK\\ChEMBL_TargetID_CHEMBL4247_1810_activity.csv\")\n",
    "x = value.IC50"
   ]
  },
  {
   "cell_type": "code",
   "execution_count": null,
   "metadata": {
    "scrolled": true
   },
   "outputs": [],
   "source": [
    "import matplotlib.pyplot as plt\n",
    "from matplotlib.ticker import FuncFormatter\n",
    "from math import log2,ceil,floor,log10\n",
    "plt.rcParams['font.family'] = ['Times New Roman']# 设置字体\n",
    "plt.rcParams['font.size'] = 20# 设置字体\n",
    "plt.clf()\n",
    "plt.figure(facecolor=\"w\",figsize=(15,4))\n",
    "l = [2**(i/4) for i in range(floor(log2(x.min())*4),round(log2(x.max())*4)+1)]\n",
    "plt.hist(x,bins=l,weights= [1./ len(x)]*len(x),facecolor=\"w\",edgecolor=\"k\",alpha=1)\n",
    "# 把y轴转化为百分比。\n",
    "def to_percent(y, position):\n",
    "    return str(100 * y)[:4] + '%'\n",
    "formatter = FuncFormatter(to_percent)\n",
    "plt.gca().yaxis.set_major_formatter(formatter)\n",
    "plt.ylabel(\"Frequncy\")\n",
    "plt.xlabel(\"Activity Value (IC$_{50}$/nM)\")\n",
    "#plt.grid(True)\n",
    "#plt.xticks(np.linspace(x.min(), x.max(),21),fontsize=12)\n",
    "#plt.yticks(fontsize=12)\n",
    "plt.xscale(\"log\",basex=10)\n",
    "plt.ylim(0,0.05)\n",
    "# plt.plot([10,10],[0,0.06],\"r\")\n",
    "# plt.plot([50,50],[0,0.06],\"g\")\n",
    "# plt.text(0.1, 0.05, '1139 high activity inhibitors',fontsize=20,color=\"k\")\n",
    "# plt.text(200, 0.05, '973 high activity inhibitors',fontsize=20,color=\"k\")\n",
    "plt.fill_between\n",
    "plt.savefig(r\"Q:\\ALK\\ChEMBL_TargetID_CHEMBL4247_1810_activity_Frequncy.png\", dpi=300, bbox_inches=\"tight\")\n",
    "plt.show()"
   ]
  }
 ],
 "metadata": {
  "interpreter": {
   "hash": "49b053aaa710f0e00fcf19d61f18f601538668544d149ba2483e3db8cc0b0054"
  },
  "kernelspec": {
   "display_name": "Python 3 (ipykernel)",
   "language": "python",
   "name": "python3"
  },
  "language_info": {
   "codemirror_mode": {
    "name": "ipython",
    "version": 3
   },
   "file_extension": ".py",
   "mimetype": "text/x-python",
   "name": "python",
   "nbconvert_exporter": "python",
   "pygments_lexer": "ipython3",
   "version": "3.9.13"
  },
  "toc": {
   "base_numbering": 1,
   "nav_menu": {},
   "number_sections": true,
   "sideBar": true,
   "skip_h1_title": false,
   "title_cell": "Table of Contents",
   "title_sidebar": "Contents",
   "toc_cell": true,
   "toc_position": {},
   "toc_section_display": true,
   "toc_window_display": false
  }
 },
 "nbformat": 4,
 "nbformat_minor": 4
}
